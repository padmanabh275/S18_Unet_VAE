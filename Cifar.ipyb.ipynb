{
 "cells": [
  {
   "cell_type": "code",
   "execution_count": 20,
   "metadata": {},
   "outputs": [],
   "source": [
    "import warnings\n",
    "warnings.filterwarnings(\"ignore\")\n",
    "\n",
    "import os\n",
    "import torch\n",
    "import lightning.pytorch as pl\n",
    "\n",
    "from cifar_datamodule import CIFAR10DataModule\n",
    "from variational_auto_encoders_module import VAE\n",
    " "
   ]
  },
  {
   "cell_type": "code",
   "execution_count": 38,
   "metadata": {},
   "outputs": [],
   "source": [
    "import albumentations as A\n",
    "from albumentations.pytorch import ToTensorV2\n",
    "mean = (0.49139968, 0.48215841, 0.44653091)\n",
    "std = (0.24703223, 0.24348513, 0.26158784)\n",
    "train_transform = A.Compose(\n",
    "            [\n",
    "                A.Normalize(mean, std),\n",
    "                ToTensorV2(),\n",
    "            ])\n",
    "datamodule = CIFAR10DataModule(train_augments=train_transform)"
   ]
  },
  {
   "cell_type": "code",
   "execution_count": 51,
   "metadata": {},
   "outputs": [
    {
     "data": {
      "text/plain": [
       "(<bound method CIFAR10DataModule.val_dataloader of <cifar_datamodule.CIFAR10DataModule object at 0x0000016F989F65E0>>,\n",
       " <bound method CIFAR10DataModule.train_dataloader of <cifar_datamodule.CIFAR10DataModule object at 0x0000016F989F65E0>>)"
      ]
     },
     "execution_count": 51,
     "metadata": {},
     "output_type": "execute_result"
    }
   ],
   "source": [
    "datamodule.val_dataloader, datamodule.train_dataloader"
   ]
  },
  {
   "cell_type": "code",
   "execution_count": 27,
   "metadata": {},
   "outputs": [
    {
     "name": "stderr",
     "output_type": "stream",
     "text": [
      "GPU available: False, used: False\n",
      "TPU available: False, using: 0 TPU cores\n",
      "IPU available: False, using: 0 IPUs\n",
      "HPU available: False, using: 0 HPUs\n"
     ]
    },
    {
     "name": "stdout",
     "output_type": "stream",
     "text": [
      "Files already downloaded and verified\n",
      "Files already downloaded and verified\n"
     ]
    },
    {
     "name": "stderr",
     "output_type": "stream",
     "text": [
      "\n",
      "  | Name | Type   | Params\n",
      "--------------------------------\n",
      "0 | net  | VAENet | 20.9 M\n",
      "--------------------------------\n",
      "20.9 M    Trainable params\n",
      "0         Non-trainable params\n",
      "20.9 M    Total params\n",
      "83.751    Total estimated model params size (MB)\n"
     ]
    },
    {
     "data": {
      "application/vnd.jupyter.widget-view+json": {
       "model_id": "ea4529d7d769438394a280f960bf0636",
       "version_major": 2,
       "version_minor": 0
      },
      "text/plain": [
       "Training: 0it [00:00, ?it/s]"
      ]
     },
     "metadata": {},
     "output_type": "display_data"
    },
    {
     "name": "stderr",
     "output_type": "stream",
     "text": [
      "`Trainer.fit` stopped: `max_epochs=1` reached.\n"
     ]
    }
   ],
   "source": [
    "from lightning.pytorch.loggers import WandbLogger\n",
    "from lightning.pytorch.loggers import CSVLogger\n",
    "from lightning.pytorch import Trainer\n",
    "\n",
    "# Optional: Logging with Weights & Biases\n",
    "logger = [WandbLogger(project=\"VAE-TRY\"),CSVLogger(save_dir=\"csv_logs\")]\n",
    "model = VAE()\n",
    "trainer = Trainer( max_epochs=1, accelerator=\"cpu\",logger=logger)\n",
    "trainer.fit(model=model, datamodule=datamodule)"
   ]
  },
  {
   "cell_type": "code",
   "execution_count": 28,
   "metadata": {},
   "outputs": [],
   "source": [
    "trainer.save_checkpoint(\"trained_cifar_model2.ckpt\")"
   ]
  },
  {
   "cell_type": "code",
   "execution_count": 40,
   "metadata": {},
   "outputs": [],
   "source": [
    "vae = VAE.load_from_checkpoint(\"trained_cifar_model2.ckpt\")"
   ]
  },
  {
   "cell_type": "code",
   "execution_count": 53,
   "metadata": {},
   "outputs": [
    {
     "ename": "AttributeError",
     "evalue": "'CIFAR10DataModule' object has no attribute 'class_names'",
     "output_type": "error",
     "traceback": [
      "\u001b[1;31m---------------------------------------------------------------------------\u001b[0m",
      "\u001b[1;31mAttributeError\u001b[0m                            Traceback (most recent call last)",
      "\u001b[1;32mUntitled-1.ipynb Cell 7\u001b[0m line \u001b[0;36m3\n\u001b[0;32m      <a href='vscode-notebook-cell:Untitled-1.ipynb?jupyter-notebook#W4sdW50aXRsZWQ%3D?line=0'>1</a>\u001b[0m \u001b[39mfrom\u001b[39;00m \u001b[39mutils\u001b[39;00m \u001b[39mimport\u001b[39;00m plot_vae_examples\n\u001b[0;32m      <a href='vscode-notebook-cell:Untitled-1.ipynb?jupyter-notebook#W4sdW50aXRsZWQ%3D?line=1'>2</a>\u001b[0m test_loader \u001b[39m=\u001b[39m datamodule\u001b[39m.\u001b[39mval_dataloader()\n\u001b[1;32m----> <a href='vscode-notebook-cell:Untitled-1.ipynb?jupyter-notebook#W4sdW50aXRsZWQ%3D?line=2'>3</a>\u001b[0m classes \u001b[39m=\u001b[39m datamodule\u001b[39m.\u001b[39;49mclass_names\n\u001b[0;32m      <a href='vscode-notebook-cell:Untitled-1.ipynb?jupyter-notebook#W4sdW50aXRsZWQ%3D?line=3'>4</a>\u001b[0m mean \u001b[39m=\u001b[39m (\u001b[39m0.49139968\u001b[39m, \u001b[39m0.48215841\u001b[39m, \u001b[39m0.44653091\u001b[39m)\n\u001b[0;32m      <a href='vscode-notebook-cell:Untitled-1.ipynb?jupyter-notebook#W4sdW50aXRsZWQ%3D?line=4'>5</a>\u001b[0m std \u001b[39m=\u001b[39m (\u001b[39m0.24703223\u001b[39m, \u001b[39m0.24348513\u001b[39m, \u001b[39m0.26158784\u001b[39m)\n",
      "\u001b[1;31mAttributeError\u001b[0m: 'CIFAR10DataModule' object has no attribute 'class_names'"
     ]
    }
   ],
   "source": [
    "from utils import plot_vae_examples\n",
    "test_loader = datamodule.val_dataloader()\n",
    "classes = datamodule.class_names\n",
    "mean = (0.49139968, 0.48215841, 0.44653091)\n",
    "std = (0.24703223, 0.24348513, 0.26158784)\n",
    "vae.to(\"cpu\")\n",
    "plot_vae_examples(test_loader,classes, vae.net, mean, std)\n",
    "     "
   ]
  }
 ],
 "metadata": {
  "kernelspec": {
   "display_name": "base",
   "language": "python",
   "name": "python3"
  },
  "language_info": {
   "codemirror_mode": {
    "name": "ipython",
    "version": 3
   },
   "file_extension": ".py",
   "mimetype": "text/x-python",
   "name": "python",
   "nbconvert_exporter": "python",
   "pygments_lexer": "ipython3",
   "version": "3.9.13"
  },
  "orig_nbformat": 4
 },
 "nbformat": 4,
 "nbformat_minor": 2
}
